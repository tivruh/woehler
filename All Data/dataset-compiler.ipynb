{
 "cells": [
  {
   "cell_type": "code",
   "execution_count": 1,
   "metadata": {},
   "outputs": [],
   "source": [
    "import pandas as pd\n",
    "import os"
   ]
  },
  {
   "cell_type": "code",
   "execution_count": 2,
   "metadata": {},
   "outputs": [],
   "source": [
    "def process_excel_file(file_path):\n",
    "    \"\"\"\n",
    "    Process a single Excel file to extract and format fatigue data.\n",
    "    Returns a dict with sheet_name: dataframe pairs.\n",
    "    \"\"\"\n",
    "    try:\n",
    "        # Read the Excel file\n",
    "        df = pd.read_excel(file_path)\n",
    "        \n",
    "        # Check for required columns (case-insensitive)\n",
    "        required_cols = ['load', 'cycles', 'censor']\n",
    "        actual_cols = {col.lower(): col for col in df.columns}\n",
    "        \n",
    "        # Create mapping of found columns\n",
    "        col_mapping = {}\n",
    "        for req_col in required_cols:\n",
    "            found = False\n",
    "            for actual_col in actual_cols:\n",
    "                if req_col in actual_col:\n",
    "                    col_mapping[req_col] = actual_cols[actual_col]\n",
    "                    found = True\n",
    "                    break\n",
    "            if not found:\n",
    "                print(f\"Warning: Could not find column for {req_col}\")\n",
    "                return None\n",
    "        \n",
    "        # Create new dataframe with standardized columns\n",
    "        new_df = pd.DataFrame({\n",
    "            'load': df[col_mapping['load']],\n",
    "            'cycles': df[col_mapping['cycles']],\n",
    "            'censor': df[col_mapping['censor']]\n",
    "        })\n",
    "        \n",
    "        # Get filename without extension for sheet name\n",
    "        sheet_name = os.path.splitext(os.path.basename(file_path))[0]\n",
    "        \n",
    "        return {sheet_name: new_df}\n",
    "        \n",
    "    except Exception as e:\n",
    "        print(f\"Error processing {file_path}: {str(e)}\")\n",
    "        return None"
   ]
  },
  {
   "cell_type": "code",
   "execution_count": 4,
   "metadata": {},
   "outputs": [
    {
     "name": "stdout",
     "output_type": "stream",
     "text": [
      "File processed successfully!\n"
     ]
    }
   ],
   "source": [
    "# Test with a single file\n",
    "file_path = \"LH_intake.xlsx\"\n",
    "result = process_excel_file(file_path)\n",
    "\n",
    "if result:\n",
    "    # Save to new Excel file\n",
    "    with pd.ExcelWriter('woehler_data-compiled.xlsx') as writer:\n",
    "        for sheet_name, df in result.items():\n",
    "            df.to_excel(writer, sheet_name=sheet_name, index=False)\n",
    "    print(\"File processed successfully!\")\n",
    "else:\n",
    "    print(\"Failed to process file.\")"
   ]
  },
  {
   "cell_type": "code",
   "execution_count": 3,
   "metadata": {},
   "outputs": [
    {
     "name": "stdout",
     "output_type": "stream",
     "text": [
      "Processing 240221_1.xlsx...\n",
      "Processing 241028.xlsx...\n",
      "Processing 242039G_Evaluation.xlsx...\n",
      "Processing 4PB_1.xlsx...\n",
      "Processing 4PB_11.xlsx...\n",
      "Processing 4PB_12.xlsx...\n",
      "Processing 4PB_14.xlsx...\n",
      "Processing 4PB_15.xlsx...\n",
      "Processing 4PB_2.xlsx...\n",
      "Processing 4PB_6.xlsx...\n",
      "Processing 4PB_7.xlsx...\n",
      "Processing LH_intake.xlsx...\n",
      "Processing NO027_ungekerbt.xlsx...\n",
      "Processing NO27_gekerbt.xlsx...\n",
      "Processing NO35_gekerbt.xlsx...\n",
      "Processing NO35_ungekerbt.xlsx...\n",
      "Processing Scorpion RE_long_Arm.xlsx...\n",
      "Processing Scorpion_Li_long.xlsx...\n",
      "Writing sheet: 240221_1\n",
      "Writing sheet: 241028\n",
      "Writing sheet: 242039G_Evaluation\n",
      "Writing sheet: 4PB_1\n",
      "Writing sheet: 4PB_11\n",
      "Writing sheet: 4PB_12\n",
      "Writing sheet: 4PB_14\n",
      "Writing sheet: 4PB_15\n",
      "Writing sheet: 4PB_2\n",
      "Writing sheet: 4PB_6\n",
      "Writing sheet: 4PB_7\n",
      "Writing sheet: LH_intake\n",
      "Writing sheet: NO027_ungekerbt\n",
      "Writing sheet: NO27_gekerbt\n",
      "Writing sheet: NO35_gekerbt\n",
      "Writing sheet: NO35_ungekerbt\n",
      "Writing sheet: Scorpion RE_long_Arm\n",
      "Writing sheet: Scorpion_Li_long\n",
      "All files processed and saved to formatted_data.xlsx!\n"
     ]
    }
   ],
   "source": [
    "all_data = {}\n",
    "for file in os.listdir('.'):\n",
    "    if file.endswith('.xlsx') and not file.startswith('~$') and file != 'formatted_data.xlsx':\n",
    "        print(f\"Processing {file}...\")\n",
    "        result = process_excel_file(file)\n",
    "        if result:\n",
    "            all_data.update(result)\n",
    "            \n",
    "# Save all processed data to a single Excel file\n",
    "if all_data:\n",
    "    with pd.ExcelWriter('formatted_data.xlsx') as writer:\n",
    "        for sheet_name, df in all_data.items():\n",
    "            print(f\"Writing sheet: {sheet_name}\")\n",
    "            df.to_excel(writer, sheet_name=sheet_name, index=False)\n",
    "    print(\"All files processed and saved to formatted_data.xlsx!\")\n",
    "else:\n",
    "    print(\"No files were processed successfully.\")"
   ]
  }
 ],
 "metadata": {
  "kernelspec": {
   "display_name": "base",
   "language": "python",
   "name": "python3"
  },
  "language_info": {
   "codemirror_mode": {
    "name": "ipython",
    "version": 3
   },
   "file_extension": ".py",
   "mimetype": "text/x-python",
   "name": "python",
   "nbconvert_exporter": "python",
   "pygments_lexer": "ipython3",
   "version": "3.11.0"
  }
 },
 "nbformat": 4,
 "nbformat_minor": 2
}
